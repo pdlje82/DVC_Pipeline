{
 "cells": [
  {
   "cell_type": "markdown",
   "metadata": {
    "id": "xhV43p0Q7ajm"
   },
   "source": [
    "# Train and test YOLOv5 model"
   ]
  },
  {
   "cell_type": "markdown",
   "metadata": {
    "id": "6ihBm3c87qV_"
   },
   "source": [
    "Install YOLOv5 and dependencies."
   ]
  },
  {
   "cell_type": "code",
   "execution_count": null,
   "metadata": {
    "id": "3qu8HZVlPwxx"
   },
   "outputs": [],
   "source": [
    "import pprint\n",
    "\n",
    "print('Setup complete. Using torch %s %s' % (torch.__version__, torch.cuda.get_device_properties(0) if torch.cuda.is_available() else 'CPU'))"
   ]
  },
  {
   "cell_type": "markdown",
   "metadata": {},
   "source": [
    "## Config"
   ]
  },
  {
   "cell_type": "code",
   "execution_count": null,
   "metadata": {},
   "outputs": [],
   "source": [
    "# Read config\n",
    "\n",
    "with open('params.yaml') as conf_file:\n",
    "    config = yaml.safe_load(conf_file)\n",
    "\n",
    "pprint.pprint(config)"
   ]
  },
  {
   "cell_type": "markdown",
   "metadata": {
    "id": "ZYKuaB4KWcIt"
   },
   "source": [
    "## Train\n",
    "### Localization"
   ]
  },
  {
   "cell_type": "markdown",
   "metadata": {
    "id": "zvJ66ORi7yzj"
   },
   "source": [
    "Install weights and biases to track training progress in real time."
   ]
  },
  {
   "cell_type": "code",
   "execution_count": null,
   "metadata": {
    "id": "zTgXm_rvdZbl"
   },
   "outputs": [],
   "source": [
    "# Weights & Biases (optional)\n",
    "%pip install -q wandb\n",
    "!wandb login  # use 'wandb disabled' or 'wandb enabled' to disable or enable"
   ]
  },
  {
   "cell_type": "markdown",
   "metadata": {
    "id": "TzNj92v7lkft"
   },
   "source": [
    "Train the model."
   ]
  },
  {
   "cell_type": "code",
   "execution_count": null,
   "metadata": {
    "id": "hO9HsXQyWegs"
   },
   "outputs": [],
   "source": [
    "%cd /content/yolov5\n",
    "!wandb enabled\n",
    "!python train.py --img 128 --batch 64 --epochs 300 --data 'object_data_yaml' --cfg 'object_train_yaml' --weights yolov5m.pt --name train_0076 --cache --hyp 'data/hyp.custom_glasstube.yaml'\n",
    "%cp -anrv \"/content/yolov5/runs/train/train_0076\" \"/content/gdrive/MyDrive/YOLOv5_working_dir/model/train\""
   ]
  },
  {
   "cell_type": "code",
   "execution_count": null,
   "metadata": {
    "id": "CuDYZk7aCouP"
   },
   "outputs": [],
   "source": [
    "%cp -anrv \"/content/yolov5/runs/train/train_00682\" \"/content/gdrive/MyDrive/YOLOv5_working_dir/model/train\""
   ]
  },
  {
   "cell_type": "markdown",
   "metadata": {
    "id": "kPWZAlyM-CZ3"
   },
   "source": [
    "### Classification"
   ]
  },
  {
   "cell_type": "markdown",
   "metadata": {
    "id": "7T3jianCg4K2"
   },
   "source": [
    "Download pretrained weights if required."
   ]
  },
  {
   "cell_type": "code",
   "execution_count": null,
   "metadata": {
    "id": "-npf3uDsX65O"
   },
   "outputs": [],
   "source": [
    "%cd /content/yolov5\n",
    "import utils\n",
    "from utils.downloads import attempt_download\n",
    "\n",
    "p5 = ['n', 's', 'm', 'l', 'x']  # P5 models\n",
    "cls = [f'{x}-cls' for x in p5]  # classification models\n",
    "\n",
    "for x in cls:\n",
    "    attempt_download(f'weights/yolov5{x}.pt')"
   ]
  },
  {
   "cell_type": "markdown",
   "metadata": {
    "id": "dGa1dSjJg9WF"
   },
   "source": [
    "Train."
   ]
  },
  {
   "cell_type": "code",
   "execution_count": null,
   "metadata": {
    "id": "T7BPaVG7-B2L"
   },
   "outputs": [],
   "source": [
    "%cd /content/yolov5\n",
    "!wandb enabled\n",
    "!python classify/train.py --img 64 --batch-size 64 --epochs 200 --data /content/yolov5/split_0038/images --model yolov5m-cls.pt --name train_0067 --cache\n",
    "%cp -anrv \"/content/yolov5/runs/train-cls/train_0067\" \"/content/gdrive/MyDrive/YOLOv5_working_dir/model/train\""
   ]
  },
  {
   "cell_type": "code",
   "execution_count": null,
   "metadata": {
    "id": "zH6Y5cxtrWGW"
   },
   "outputs": [],
   "source": [
    "--pretrained weights/yolov5m-cls.pt"
   ]
  },
  {
   "cell_type": "code",
   "execution_count": null,
   "metadata": {
    "id": "7cc6wYS-pWH9"
   },
   "outputs": [],
   "source": [
    "!python export.py --weights runs/train-cls/train_0058/weights/best.pt --include onnx"
   ]
  },
  {
   "cell_type": "markdown",
   "metadata": {
    "id": "RaogRrRQCjXQ"
   },
   "source": [
    "Copy training result to google drive."
   ]
  },
  {
   "cell_type": "code",
   "execution_count": null,
   "metadata": {
    "id": "VYVnGLsST2As"
   },
   "outputs": [],
   "source": [
    "%cp -anrv \"/content/yolov5/runs/train-cls/train_0067\" \"/content/gdrive/MyDrive/YOLOv5_working_dir/model/train\""
   ]
  },
  {
   "cell_type": "markdown",
   "metadata": {
    "id": "P_PTsfZjIZax"
   },
   "source": [
    "## Test \n",
    "### Localization"
   ]
  },
  {
   "cell_type": "code",
   "execution_count": null,
   "metadata": {
    "id": "K0bVvG86IlEy"
   },
   "outputs": [],
   "source": [
    "%cd /content/yolov5\n",
    "!python val.py --img 128 --data 'object_data_yaml' --weights /content/gdrive/MyDrive/YOLOv5_working_dir/model/train/train_0076/weights/last.pt --name test_0064 --task 'test' --save-txt --save-conf"
   ]
  },
  {
   "cell_type": "markdown",
   "metadata": {
    "id": "DWGQnc-AOGZt"
   },
   "source": [
    "Copy test results to google drive."
   ]
  },
  {
   "cell_type": "code",
   "execution_count": null,
   "metadata": {
    "id": "3OD7EhWWOJ6I"
   },
   "outputs": [],
   "source": [
    "%cp -anrv \"/content/yolov5/runs/val/test_0064\" \"/content/gdrive/MyDrive/YOLOv5_working_dir/model/test\""
   ]
  },
  {
   "cell_type": "markdown",
   "metadata": {
    "id": "1I4crSwfUQ0n"
   },
   "source": [
    "###  Classification"
   ]
  },
  {
   "cell_type": "code",
   "execution_count": null,
   "metadata": {
    "id": "453pt17BUXCS"
   },
   "outputs": [],
   "source": [
    "%cd /content/yolov5\n",
    "!python classify/val.py --img 64 --data /content/gdrive/MyDrive/split_0038/images --weights /content/gdrive/MyDrive/YOLOv5_working_dir/model/train/train_0067/weights/last.pt --name test_0055"
   ]
  },
  {
   "cell_type": "code",
   "execution_count": null,
   "metadata": {
    "id": "NCLbDnaXVpJM"
   },
   "outputs": [],
   "source": [
    "%cp -anrv \"/content/yolov5/runs/val-cls/test_0055\" \"/content/gdrive/MyDrive/YOLOv5_working_dir/model/test\""
   ]
  },
  {
   "cell_type": "markdown",
   "metadata": {
    "id": "NI-gZ_CycGFF"
   },
   "source": [
    "## Predict"
   ]
  },
  {
   "cell_type": "code",
   "execution_count": null,
   "metadata": {
    "id": "O-1BLjhtcJhg"
   },
   "outputs": [],
   "source": [
    "%cd /content/yolov5\n",
    "!python detect.py --source '/content/gdrive/MyDrive/set_0007' --weights '/content/gdrive/MyDrive/YOLOv5_working_dir/model/train/train_0076/weights/last.pt' --img 640 --conf 0.9 --save-txt --name predict_0065"
   ]
  },
  {
   "cell_type": "markdown",
   "metadata": {
    "id": "cQA6aPa4Oamg"
   },
   "source": [
    "Copy prediction results to google drive."
   ]
  },
  {
   "cell_type": "code",
   "execution_count": null,
   "metadata": {
    "id": "FBxJzNhJOd6q"
   },
   "outputs": [],
   "source": [
    "%cp -anrv \"/content/yolov5/runs/detect/predict_0065\" \"/content/gdrive/MyDrive/YOLOv5_working_dir/model/predict/\""
   ]
  },
  {
   "cell_type": "markdown",
   "metadata": {
    "id": "sIEQGm6qoPut"
   },
   "source": [
    "## Store artifacts"
   ]
  },
  {
   "cell_type": "code",
   "execution_count": null,
   "metadata": {
    "id": "rY79SyZHn0Au"
   },
   "outputs": [],
   "source": [
    "# Copy things around on google drive\n",
    "%cp -anrv \"/content/gdrive/MyDrive/YOLOv5_working_dir/split/split_0003/images\" \"/content/gdrive/MyDrive/YOLOv5_working_dir/split/split_0005/images\""
   ]
  }
 ],
 "metadata": {
  "accelerator": "GPU",
  "colab": {
   "gpuType": "V100",
   "machine_shape": "hm",
   "private_outputs": true,
   "provenance": []
  },
  "kernelspec": {
   "display_name": "Python 3 (ipykernel)",
   "language": "python",
   "name": "python3"
  },
  "language_info": {
   "codemirror_mode": {
    "name": "ipython",
    "version": 3
   },
   "file_extension": ".py",
   "mimetype": "text/x-python",
   "name": "python",
   "nbconvert_exporter": "python",
   "pygments_lexer": "ipython3",
   "version": "3.10.13"
  }
 },
 "nbformat": 4,
 "nbformat_minor": 1
}
